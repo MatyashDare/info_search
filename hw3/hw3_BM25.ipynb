{
 "cells": [
  {
   "cell_type": "markdown",
   "metadata": {},
   "source": [
    "# ДЗ 3 \n",
    "## Ранжирование и BM25"
   ]
  },
  {
   "cell_type": "markdown",
   "metadata": {},
   "source": [
    " "
   ]
  },
  {
   "cell_type": "markdown",
   "metadata": {},
   "source": [
    "## Функция ранжирования BM25"
   ]
  },
  {
   "cell_type": "markdown",
   "metadata": {},
   "source": [
    "Для обратного индекса есть общепринятая формула для ранжирования *Okapi best match 25* ([Okapi BM25](https://ru.wikipedia.org/wiki/Okapi_BM25)).    \n",
    "Пусть дан запрос $Query$, содержащий слова  $q_1, ... , q_n$, тогда функция BM25 даёт следующую оценку релевантности документа $Doc$ запросу $Query$:\n",
    "\n",
    "$$ BM25(Query, Doc) = \\sum_{i}^{n} \\text{IDF}(q_i)*\\frac{TF(q_i,Doc)*(k+1)}{TF(q_i,Doc)+k(1-b+b\\frac{l(d)}{avgdl})} $$ \n",
    "где    \n",
    "$$$$\n",
    "$\\text{IDF}(q_i)$: \n",
    "$$\\text{IDF}(q_i) = \\log\\frac{N-n(q_i)+0.5}{n(q_i)+0.5},$$\n",
    ">> где $N$ - общее количество документов в корпусе   \n",
    "$n(q_i)$ — количество документов, содержащих слово $q_i$\n",
    "\n",
    ">$TF(q_i,Doc)$ - частота слова $q_i$ в документе $Doc$    \n",
    "$k$ и $b$ — свободные коэффициенты, обычно их выбирают как $k$=2.0 и $b$=0.75  \n",
    "$l(d)$ - длина документа (количество слов в нём)   \n",
    "$avgdl$ — средняя длина документа в корпусе    "
   ]
  },
  {
   "cell_type": "markdown",
   "metadata": {},
   "source": [
    "### __Задача__:\n",
    "\n",
    "Реализуйте поиск, где\n",
    "- в качестве векторизации документов корпуса - слагаемые **BM25**\n",
    "- формат хранения индекса - **матрица Document-Term**\n",
    "- метрика близости пар (запрос, документ) - **BM25**\n",
    "\n",
    "В реализации должно быть все то же, что во втором дз:\n",
    "- функция индексации корпуса, на выходе которой посчитанная матрица Document-Term\n",
    "- функция индексации запроса, на выходе которой посчитанный вектор запроса\n",
    "- функция с реализацией подсчета близости запроса и документов корпуса, на выходе которой вектор, i-й элемент которого обозначает близость запроса с i-м документом корпуса. Сделать **обязательно векторно**.\n",
    "- главная функция, объединяющая все это вместе; на входе - запрос, на выходе - отсортированные по убыванию имена документов коллекции\n",
    "\n",
    "Обратите внимание:\n",
    "- сортировку надо сделать **<font color='green'>обязательно векторно</font>** через маску; при не соблюдении минус два балла\n",
    "- подсчет индекса надо сделать **<font color='green'>обязательно с использованием спарсованных матриц</font>**, то есть ни в какой момент времени векторизованный корпус не переводится в ndarray; при не соблюдении минус два балла\n",
    "- надо сделать **<font color='green'>обязательно с учетом всех комментариев за свои предыдущие дз</font>**; при не соблюдении минус балл за каждый пункт\n",
    "- использование хардкод локального пути => 0 баллов\n",
    "\n",
    "\n",
    "В качестве корпуса возьмите корпус вопросов и ответов с Ответы Мейл) 👍😃 \n",
    "[Ссылка для скачивания](https://www.kaggle.com/bobazooba/thousands-of-questions-about-love)\n",
    "\n",
    "Описание структуры данных можно посмотреть по ссылке. В качестве документов корпуса берем значения из ключа *answers*, но не все, а один, у которого максимальный *value*. При этом ограничиваем количество документов до 50000. Пример ниже.\n",
    "\n",
    "\n",
    "**На что направлена эта задача:** \n",
    "Реализация поисковика с использованием BM25.\n",
    "\n"
   ]
  },
  {
   "cell_type": "code",
   "execution_count": 31,
   "metadata": {},
   "outputs": [
    {
     "data": {
      "text/plain": [
       "{'question': 'Кто что должен сделать!? Для завоевания доверия женщины у мужчины и мужчины у женщины, для прочных отношений!',\n",
       " 'comment': '',\n",
       " 'sub_category': 'relations',\n",
       " 'author': 'Diesel',\n",
       " 'author_rating': {'category': 'Мыслитель', 'value': '5175'},\n",
       " 'answers': [{'text': 'это подозрительно когда настойчиво навязывают чувство доверия',\n",
       "   'author_rating': {'category': 'Знаток', 'value': '312'}},\n",
       "  {'text': 'Пересказ информации вайшнавов. Доверие складывается из 2 штук. 1. Доброта - пилот добрый, но не умеет водить самолет - лететь страшно, доверия нет. 2. Профессионализм - зирург отличный, но садист, отрежет лишнее - нет доверия.Итак, учитывайте потребности человека, повышайте айкью, чтоб по внешнему виду определять че человеку надо, не плюйте на его состояние (не просите больного гриппом идти для вас в аптеку за презиками), покажите, что вы никогда не будете его насиловать - в случае если вас что-то не устроит просто уйдете. Говорите правду. Желательно не косячить - такую правду говорить тяжело. Отвечайте за свои слова и действия. Например, если Вы потеряли одолженную книгу, верните, найдите способ любой, хоть из-под земли, закажите ее в америке.',\n",
       "   'author_rating': {'category': 'Гуру', 'value': '3897'}}],\n",
       " 'poll': []}"
      ]
     },
     "execution_count": 31,
     "metadata": {},
     "output_type": "execute_result"
    }
   ],
   "source": [
    "# # датасет для индексирования\n",
    "\n",
    "import json\n",
    "\n",
    "with open('questions_about_love.jsonl', 'r') as f:\n",
    "    corpus = list(f)[:50000]\n",
    "\n",
    "# пример элемента оригинального датасета \n",
    "json.loads(corpus[22])"
   ]
  },
  {
   "cell_type": "code",
   "execution_count": 32,
   "metadata": {},
   "outputs": [
    {
     "data": {
      "text/plain": [
       "array(['name_4', 'name_2', 'name_1', 'name_3'], dtype='<U6')"
      ]
     },
     "execution_count": 32,
     "metadata": {},
     "output_type": "execute_result"
    }
   ],
   "source": [
    "# подсказки про векторную сортировку\n",
    "\n",
    "import numpy as np\n",
    "from sklearn.feature_extraction.text import TfidfVectorizer\n",
    "from sklearn.metrics.pairwise import cosine_similarity\n",
    "\n",
    "\n",
    "corpus = [\n",
    "    'мыла',\n",
    "    'раму',\n",
    "    'киса',\n",
    "    'мама мыла раму'\n",
    "]\n",
    "corpus_doc_names = np.array(['name_1', 'name_2', 'name_3', 'name_4'])\n",
    "query = 'мама мыла раму'\n",
    "\n",
    "\n",
    "vectorizer = TfidfVectorizer()\n",
    "corpus_matrix = vectorizer.fit_transform(corpus)\n",
    "query_vec = vectorizer.transform([query]).toarray()\n",
    "\n",
    "# считаем косинусную близость\n",
    "scores = cosine_similarity(corpus_matrix, query_vec)\n",
    "\n",
    "# сортируем индексы скоров в обратном порядке (по убыванию)\n",
    "sorted_scores_indx = np.argsort(scores, axis=0)[::-1]\n",
    "\n",
    "# сортируем имена файлов в соответствии со скорами\n",
    "corpus_doc_names[sorted_scores_indx.ravel()]"
   ]
  },
  {
   "cell_type": "code",
   "execution_count": 26,
   "metadata": {},
   "outputs": [
    {
     "data": {
      "text/plain": [
       "<4x5 sparse matrix of type '<class 'numpy.longlong'>'\n",
       "\twith 3 stored elements in Compressed Sparse Row format>"
      ]
     },
     "execution_count": 26,
     "metadata": {},
     "output_type": "execute_result"
    }
   ],
   "source": [
    "# подсказки про спарс-матрицу\n",
    "\n",
    "from scipy import sparse\n",
    "\n",
    "\n",
    "# итерация по ненулевым элементам спарс-матрицы\n",
    "# for i, j in zip(*sparce_matrix.nonzero()): \n",
    "#     ...\n",
    "    \n",
    "# создать спарс-матрицу из данных, где\n",
    "# values - лист из n значений, которые мы хотим положить в матрицу \n",
    "# rows - лист из n значений, где i-тое значение это индекс строки i-го элемента из values\n",
    "# cols - лист из n значений, где i-тое значение это индекс колонки i-го элемента из values\n",
    "\n",
    "values = [99, 22, 77]\n",
    "rows = [0, 2, 3]\n",
    "cols = [0, 2, 4]\n",
    "\n",
    "sparce_matrix = sparse.csr_matrix((values, (rows, cols)))\n",
    "sparce_matrix"
   ]
  },
  {
   "cell_type": "code",
   "execution_count": 27,
   "metadata": {},
   "outputs": [
    {
     "data": {
      "text/plain": [
       "array([[99,  0,  0,  0,  0],\n",
       "       [ 0,  0,  0,  0,  0],\n",
       "       [ 0,  0, 22,  0,  0],\n",
       "       [ 0,  0,  0,  0, 77]], dtype=int64)"
      ]
     },
     "execution_count": 27,
     "metadata": {},
     "output_type": "execute_result"
    }
   ],
   "source": [
    "# и посмотрим, что получилось\n",
    "sparce_matrix.toarray()"
   ]
  },
  {
   "cell_type": "code",
   "execution_count": 29,
   "metadata": {},
   "outputs": [
    {
     "name": "stdout",
     "output_type": "stream",
     "text": [
      "0 0\n",
      "2 2\n",
      "3 4\n"
     ]
    }
   ],
   "source": [
    "for i, j in zip(*sparce_matrix.nonzero()): \n",
    "    print(i, j)"
   ]
  }
 ],
 "metadata": {
  "kernelspec": {
   "display_name": "Python 3",
   "language": "python",
   "name": "python3"
  },
  "language_info": {
   "codemirror_mode": {
    "name": "ipython",
    "version": 3
   },
   "file_extension": ".py",
   "mimetype": "text/x-python",
   "name": "python",
   "nbconvert_exporter": "python",
   "pygments_lexer": "ipython3",
   "version": "3.7.6"
  }
 },
 "nbformat": 4,
 "nbformat_minor": 4
}
