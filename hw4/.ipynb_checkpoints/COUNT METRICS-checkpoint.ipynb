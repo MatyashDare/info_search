{
 "cells": [
  {
   "cell_type": "code",
   "execution_count": 1,
   "metadata": {},
   "outputs": [],
   "source": [
    "import pickle\n",
    "import scipy\n",
    "from scipy import sparse\n",
    "import numpy as np\n",
    "import pandas as pd"
   ]
  },
  {
   "cell_type": "code",
   "execution_count": 2,
   "metadata": {},
   "outputs": [],
   "source": [
    "def get_cosine_similarity(sparse_matrix, query):\n",
    "    return np.dot(sparse_matrix, query.T).toarray()\n",
    "def get_cosine_similarity2(sparse_matrix, query):\n",
    "    return np.dot(sparse_matrix, query.T)"
   ]
  },
  {
   "cell_type": "code",
   "execution_count": 8,
   "metadata": {},
   "outputs": [
    {
     "name": "stdout",
     "output_type": "stream",
     "text": [
      "count_vectorizer 0.0336\n",
      "tfidf_vectorizer 0.0877\n",
      "BM25 0.0685\n",
      "BERT 0.0083\n",
      "corpus_ft 0.0022\n"
     ]
    }
   ],
   "source": [
    "def count_metric(method):\n",
    "    if method != 'corpus_ft':\n",
    "        anwers_matrix = sparse.load_npz(f'../corpora/{method}_answers.npz')\n",
    "        questions_matrix = sparse.load_npz(f'../corpora/{method}_questions.npz')\n",
    "        res_mat = get_cosine_similarity(anwers_matrix, questions_matrix)\n",
    "    else:\n",
    "        answers_matrix = pd.read_csv('../corpora/corpus_ft_answers.csv')\n",
    "        questions_matrix = pd.read_csv('../corpora/corpus_ft_questions.csv')\n",
    "        cols = [col for col in answers_matrix.columns if 'word' in col]\n",
    "        res_mat = get_cosine_similarity2(answers_matrix[cols].values, questions_matrix[cols].values)\n",
    "    return np.argsort(-res_mat, axis=1)\n",
    "\n",
    "def count_score(result, top_n):\n",
    "    score = 0\n",
    "    for i, row in enumerate(result):\n",
    "            top_results = row[:top_n]\n",
    "            if i in top_results:\n",
    "                score += 1\n",
    "    return score/len(result)\n",
    "\n",
    "\n",
    "methods = ['count_vectorizer', 'tfidf_vectorizer', 'BM25', 'BERT', 'corpus_ft']\n",
    "top_n = 5\n",
    "dict_top5 = {}\n",
    "for method in methods:\n",
    "    result = count_metric(method)\n",
    "    score = count_score(result, top_n)\n",
    "    dict_top5[method] = score\n",
    "    print(method, score)"
   ]
  },
  {
   "cell_type": "code",
   "execution_count": 9,
   "metadata": {},
   "outputs": [],
   "source": [
    "with open(\"./dict_top5.txt\", \"w\") as file:\n",
    "    file.write(str(dict_top5))"
   ]
  },
  {
   "cell_type": "code",
   "execution_count": 10,
   "metadata": {},
   "outputs": [
    {
     "name": "stdout",
     "output_type": "stream",
     "text": [
      "{'count_vectorizer': 0.0336, 'tfidf_vectorizer': 0.0877, 'BM25': 0.0685, 'BERT': 0.0083, 'corpus_ft': 0.0022}\n"
     ]
    }
   ],
   "source": [
    "import ast\n",
    "file = open(\"./dict_top5.txt\", \"r\")\n",
    "contents = file.read()\n",
    "dict_top5_saved = ast.literal_eval(contents)\n",
    "print(dict_top5_saved)"
   ]
  },
  {
   "cell_type": "code",
   "execution_count": 14,
   "metadata": {},
   "outputs": [
    {
     "name": "stdout",
     "output_type": "stream",
     "text": [
      "('count_vectorizer', 0.0336)\n",
      "('tfidf_vectorizer', 0.0877)\n",
      "('BM25', 0.0685)\n",
      "('BERT', 0.0083)\n",
      "('corpus_ft', 0.0022)\n"
     ]
    }
   ],
   "source": [
    "print(*dict_top5_saved.items(), sep='\\n')"
   ]
  },
  {
   "cell_type": "code",
   "execution_count": 18,
   "metadata": {},
   "outputs": [
    {
     "name": "stdout",
     "output_type": "stream",
     "text": [
      "count_vectorizer --- 0.0336\n",
      "tfidf_vectorizer --- 0.0877\n",
      "BM25 --- 0.0685\n",
      "BERT --- 0.0083\n",
      "FastText --- 0.0022\n"
     ]
    }
   ],
   "source": [
    "for key in dict_top5_saved:\n",
    "    if key == 'corpus_ft':\n",
    "        key2 = 'FastText'\n",
    "        print(f'{key2} --- {dict_top5_saved[key]}')\n",
    "    else:\n",
    "        print(f'{key} --- {dict_top5_saved[key]}')"
   ]
  },
  {
   "cell_type": "code",
   "execution_count": null,
   "metadata": {},
   "outputs": [],
   "source": [
    "anwers_matrix = sparse.load_npz('../corpora/count_vectorizer_answers.npz')\n",
    "questions_matrix = sparse.load_npz('../corpora/count_vectorizer_questions.npz')\n",
    "\n",
    "res_mat = get_cosine_similarity(anwers_matrix, questions_matrix)\n",
    "sorted = np.argsort(-res_mat, axis=1)"
   ]
  },
  {
   "cell_type": "code",
   "execution_count": 4,
   "metadata": {},
   "outputs": [
    {
     "name": "stdout",
     "output_type": "stream",
     "text": [
      "0.0439\n"
     ]
    }
   ],
   "source": [
    "score = 0\n",
    "for index, row in enumerate(sorted):\n",
    "        top_results = row[:10]\n",
    "        if index in top_results:\n",
    "            score += 1\n",
    "\n",
    "\n",
    "\n",
    "score = score/len(sorted)\n",
    "print(score)"
   ]
  },
  {
   "cell_type": "code",
   "execution_count": 5,
   "metadata": {},
   "outputs": [
    {
     "name": "stdout",
     "output_type": "stream",
     "text": [
      "0.1112\n"
     ]
    }
   ],
   "source": [
    "anwers_matrix = sparse.load_npz('../corpora/tfidf_vectorizer_answers.npz')\n",
    "questions_matrix = sparse.load_npz('../corpora/tfidf_vectorizer_questions.npz')\n",
    "\n",
    "res_mat = get_cosine_similarity(anwers_matrix, questions_matrix)\n",
    "sorted = np.argsort(-res_mat, axis=1)\n",
    "\n",
    "score = 0\n",
    "for index, row in enumerate(sorted):\n",
    "        top_results = row[:10]\n",
    "        if index in top_results:\n",
    "            score += 1\n",
    "\n",
    "score = score/len(sorted)\n",
    "print(score)"
   ]
  },
  {
   "cell_type": "code",
   "execution_count": 22,
   "metadata": {},
   "outputs": [],
   "source": [
    "# anwers_matrix = sparse.load_npz('../corpora/BM25_answers.npz')\n",
    "# questions_matrix = sparse.load_npz('../corpora/BM25_questions.npz')\n",
    "\n",
    "# res_mat = get_cosine_similarity(anwers_matrix, questions_matrix)\n",
    "# sorted = np.argsort(-res_mat, axis=1)\n",
    "\n",
    "# score = 0\n",
    "# for index, row in enumerate(sorted):\n",
    "#         top_results = row[:10]\n",
    "#         if index in top_results:\n",
    "#             score += 1\n",
    "\n",
    "# score = score/len(sorted)\n",
    "# print(score)"
   ]
  },
  {
   "cell_type": "code",
   "execution_count": 7,
   "metadata": {},
   "outputs": [
    {
     "data": {
      "text/plain": [
       "(10000, 14900)"
      ]
     },
     "execution_count": 7,
     "metadata": {},
     "output_type": "execute_result"
    }
   ],
   "source": [
    "anwers_matrix.shape"
   ]
  },
  {
   "cell_type": "code",
   "execution_count": 8,
   "metadata": {},
   "outputs": [
    {
     "data": {
      "text/plain": [
       "(10000, 14888)"
      ]
     },
     "execution_count": 8,
     "metadata": {},
     "output_type": "execute_result"
    }
   ],
   "source": [
    "questions_matrix.shape"
   ]
  },
  {
   "cell_type": "code",
   "execution_count": null,
   "metadata": {},
   "outputs": [],
   "source": []
  },
  {
   "cell_type": "code",
   "execution_count": 10,
   "metadata": {},
   "outputs": [
    {
     "name": "stdout",
     "output_type": "stream",
     "text": [
      "0.0113\n"
     ]
    }
   ],
   "source": [
    "anwers_matrix = sparse.load_npz('../corpora/BERT_answers.npz')\n",
    "questions_matrix = sparse.load_npz('../corpora/BERT_questions.npz')\n",
    "\n",
    "res_mat = get_cosine_similarity(anwers_matrix, questions_matrix)\n",
    "sorted = np.argsort(-res_mat, axis=1)\n",
    "\n",
    "score = 0\n",
    "for index, row in enumerate(sorted):\n",
    "        top_results = row[:10]\n",
    "        if index in top_results:\n",
    "            score += 1\n",
    "\n",
    "score = score/len(sorted)\n",
    "print(score)"
   ]
  },
  {
   "cell_type": "code",
   "execution_count": 11,
   "metadata": {},
   "outputs": [
    {
     "name": "stdout",
     "output_type": "stream",
     "text": [
      "0.0112\n"
     ]
    }
   ],
   "source": [
    "anwers_matrix = sparse.load_npz('../corpora/BERT_answers.npz')\n",
    "questions_matrix = sparse.load_npz('../corpora/BERT_questions.npz')\n",
    "\n",
    "res_mat = get_cosine_similarity(anwers_matrix, questions_matrix)\n",
    "sorted = np.argsort(-res_mat, axis=1)\n",
    "\n",
    "score = 0\n",
    "for index, row in enumerate(sorted):\n",
    "        top_results = row[:10]\n",
    "        if index in top_results:\n",
    "            score += 1\n",
    "\n",
    "score = score/len(sorted)\n",
    "print(score)"
   ]
  },
  {
   "cell_type": "code",
   "execution_count": 31,
   "metadata": {},
   "outputs": [],
   "source": [
    "anwers_matrix = pd.read_csv('../corpora/corpus_ft_answers.csv')\n",
    "questions_matrix = pd.read_csv('../corpora/corpus_ft_questions.csv')"
   ]
  },
  {
   "cell_type": "code",
   "execution_count": 32,
   "metadata": {},
   "outputs": [
    {
     "data": {
      "text/plain": [
       "Index(['Unnamed: 0', 'word0', 'word1', 'word2', 'word3', 'word4', 'word5',\n",
       "       'word6', 'word7', 'word8',\n",
       "       ...\n",
       "       'word290', 'word291', 'word292', 'word293', 'word294', 'word295',\n",
       "       'word296', 'word297', 'word298', 'word299'],\n",
       "      dtype='object', length=301)"
      ]
     },
     "execution_count": 32,
     "metadata": {},
     "output_type": "execute_result"
    }
   ],
   "source": [
    "anwers_matrix.columns"
   ]
  },
  {
   "cell_type": "code",
   "execution_count": 33,
   "metadata": {},
   "outputs": [],
   "source": [
    "cols = [col for col in anwers_matrix.columns if 'word' in col]"
   ]
  },
  {
   "cell_type": "code",
   "execution_count": 34,
   "metadata": {},
   "outputs": [
    {
     "data": {
      "text/plain": [
       "(10000, 300)"
      ]
     },
     "execution_count": 34,
     "metadata": {},
     "output_type": "execute_result"
    }
   ],
   "source": [
    "anwers_matrix[cols].values.shape"
   ]
  },
  {
   "cell_type": "code",
   "execution_count": 35,
   "metadata": {},
   "outputs": [
    {
     "data": {
      "text/plain": [
       "(10000, 300)"
      ]
     },
     "execution_count": 35,
     "metadata": {},
     "output_type": "execute_result"
    }
   ],
   "source": [
    "questions_matrix[cols].values.shape"
   ]
  },
  {
   "cell_type": "code",
   "execution_count": 21,
   "metadata": {},
   "outputs": [
    {
     "name": "stdout",
     "output_type": "stream",
     "text": [
      "0.0042\n"
     ]
    }
   ],
   "source": [
    "def get_cosine_similarity2(sparse_matrix, query):\n",
    "    return np.dot(sparse_matrix, query.T)\n",
    "res_mat = get_cosine_similarity2(anwers_matrix[cols].values, questions_matrix[cols].values)\n",
    "sorted = np.argsort(-res_mat, axis=1)\n",
    "\n",
    "score = 0\n",
    "for index, row in enumerate(sorted):\n",
    "        top_results = row[:10]\n",
    "        if index in top_results:\n",
    "            score += 1\n",
    "\n",
    "score = score/len(sorted)\n",
    "print(score)"
   ]
  },
  {
   "cell_type": "code",
   "execution_count": null,
   "metadata": {},
   "outputs": [],
   "source": []
  }
 ],
 "metadata": {
  "kernelspec": {
   "display_name": "Python 3",
   "language": "python",
   "name": "python3"
  },
  "language_info": {
   "codemirror_mode": {
    "name": "ipython",
    "version": 3
   },
   "file_extension": ".py",
   "mimetype": "text/x-python",
   "name": "python",
   "nbconvert_exporter": "python",
   "pygments_lexer": "ipython3",
   "version": "3.7.6"
  }
 },
 "nbformat": 4,
 "nbformat_minor": 4
}
