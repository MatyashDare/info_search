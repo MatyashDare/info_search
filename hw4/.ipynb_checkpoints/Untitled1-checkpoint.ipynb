{
 "cells": [
  {
   "cell_type": "code",
   "execution_count": 62,
   "metadata": {},
   "outputs": [],
   "source": [
    "# import json\n",
    "# import gensim\n",
    "# from gensim.models.wrappers import FastText\n",
    "# import numpy as np\n",
    "# import pandas as pd\n",
    "# import re\n",
    "# import nltk\n",
    "# from nltk.tokenize import word_tokenize\n",
    "# from pymystem3 import Mystem\n",
    "# from nltk.corpus import stopwords\n",
    "# from sklearn.metrics.pairwise import cosine_similarity\n",
    "# import pickle\n",
    "# import scipy\n",
    "# from scipy import sparse\n",
    "# import torch\n",
    "# from transformers import AutoTokenizer, AutoModel\n",
    "\n",
    "# nltk.download(\"stopwords\")\n",
    "# russian_stopwords = stopwords.words(\"russian\")\n",
    "# mystem = Mystem()\n",
    "\n",
    "# bert_tokenizer = AutoTokenizer.from_pretrained(\"cointegrated/rubert-tiny\")\n",
    "# bert_model = AutoModel.from_pretrained(\"cointegrated/rubert-tiny\")\n",
    "# model_ft = gensim.models.KeyedVectors.load('../vectorizers/araneum_none_fasttextcbow_300_5_2018.model')\n",
    "# df = pd.read_csv('../data/questions_about_love.csv')\n",
    "# cols = [col for col in df.columns if 'word' in col]\n",
    "corpus_ft = pd.read_csv('../corpora/corpus_ft.csv')\n",
    "cols = [col for col in corpus_ft.columns if 'word' in col]\n",
    "def preprocess_line(text: str) -> str:\n",
    "    # убираем пунктуацию, оставляем только дефисы\n",
    "    no_punct = re.sub('[,\\?\\!\\.\"\\:]|[a-zA-Z]+', '', ''.join(text))\n",
    "    # токенизируем и лемматизируем текст, приводим к нижнему регистру\n",
    "    lem_words = mystem.lemmatize(text.lower())\n",
    "    ans = ' '.join([w for w in lem_words if w.isalpha()])\n",
    "    if ans == \" \":\n",
    "        return 'пустой текст'\n",
    "    elif ans == '':\n",
    "        return 'пустой текст'\n",
    "    else:\n",
    "        return re.sub('\\n', '', ans)\n",
    "\n",
    "def cosine_similarity_matrix_query(sparse_matrix, query):\n",
    "    return np.dot(sparse_matrix, query.T).toarray()\n",
    "\n",
    "def make_ft_embedding(line:str):\n",
    "    emb_list = []\n",
    "    for word in line.split():\n",
    "        emb_list .append(model_ft[word])\n",
    "    emb_list = np.array(emb_list)\n",
    "    return emb_list.mean(axis=0)\n",
    "\n",
    "def cs_FastText(query):\n",
    "    scores = cosine_similarity(make_ft_embedding(query).reshape((1,300)), corpus_ft[cols].as_matrix())[0]\n",
    "    argx = np.argsort(scores)[::-1]\n",
    "    return df['doc_name'][argx.ravel()]\n",
    "\n",
    "\n",
    "def cs_CountVectorizer(query):\n",
    "    count_vectorizer = pickle.load(open('../vectorizers/count_vectorizer.pickle', 'rb'))\n",
    "    sparse_matrix = sparse.load_npz('../corpora/count_vectorizer.npz')\n",
    "    query = count_vectorizer.transform([query])\n",
    "    scores = cosine_similarity_matrix_query(sparse_matrix, query)\n",
    "    argx = np.argsort(scores, axis=0)[::-1]\n",
    "    return df['answers'][argx.ravel()]\n",
    "\n",
    "\n",
    "def cs_TfidfVectorizer(query):\n",
    "    tfidf_vectorizer = pickle.load(open('../vectorizers/tfidf_vectorizer.pickle', 'rb'))\n",
    "    sparse_matrix = sparse.load_npz('../corpora/tfidf_vectorizer.npz')\n",
    "    query = tfidf_vectorizer.transform([query])\n",
    "    scores = cosine_similarity_matrix_query(sparse_matrix, query)\n",
    "    argx = np.argsort(scores, axis=0)[::-1]\n",
    "    return df['answers'][argx.ravel()]\n",
    "\n",
    "\n",
    "def cs_BM25(query):\n",
    "    query = preprocess_line(query)\n",
    "    count_vectorizer = pickle.load(open('../vectorizers/count_vectorizer.pickle', 'rb'))\n",
    "    query = count_vectorizer.transform([query])\n",
    "    sparse_matrix = sparse.load_npz('../corpora/BM25.npz')\n",
    "    scores = cosine_similarity_matrix_query(sparse_matrix, query)\n",
    "#     scores = sparse_matrix.dot(query_vec.T).toarray()\n",
    "    argx = np.argsort(scores, axis=0)[::-1]\n",
    "    return df['answers'][argx.ravel()]\n",
    "\n",
    "def make_bert_embedding(query):\n",
    "    embeddings = embed_bert_cls(query, bert_model, bert_tokenizer)\n",
    "    return sparse.csr_matrix(embeddings)\n",
    "\n",
    "\n",
    "def cs_BERT(query):\n",
    "    query = make_bert_embedding(query)\n",
    "    sparse_matrix = sparse.load_npz('../corpora/BERT.npz')\n",
    "    scores = cosine_similarity_matrix_query(sparse_matrix, query)\n",
    "#     scores = sparse_matrix.dot(query.T).toarray()\n",
    "    argx = np.argsort(scores, axis=0)[::-1]\n",
    "    return df['answers'][argx.ravel()]\n",
    "\n",
    "def embed_bert_cls(text, model, tokenizer):\n",
    "    t = tokenizer(text, padding=True, truncation=True, return_tensors='pt')\n",
    "    with torch.no_grad():\n",
    "        model_output = model(**{k: v.to(model.device) for k, v in t.items()})\n",
    "    embeddings = model_output.last_hidden_state[:, 0, :]\n",
    "    embeddings = torch.nn.functional.normalize(embeddings)\n",
    "    return embeddings[0].cpu().numpy()\n"
   ]
  },
  {
   "cell_type": "code",
   "execution_count": 63,
   "metadata": {},
   "outputs": [],
   "source": [
    "query = 'не любит'\n",
    "query = preprocess_line(query)"
   ]
  },
  {
   "cell_type": "code",
   "execution_count": 64,
   "metadata": {},
   "outputs": [
    {
     "name": "stderr",
     "output_type": "stream",
     "text": [
      "/opt/anaconda3/lib/python3.7/site-packages/ipykernel_launcher.py:53: FutureWarning: Method .as_matrix will be removed in a future version. Use .values instead.\n"
     ]
    },
    {
     "ename": "AttributeError",
     "evalue": "'numpy.ndarray' object has no attribute 'toarray'",
     "output_type": "error",
     "traceback": [
      "\u001b[0;31m---------------------------------------------------------------------------\u001b[0m",
      "\u001b[0;31mAttributeError\u001b[0m                            Traceback (most recent call last)",
      "\u001b[0;32m<ipython-input-64-242aaae08d9f>\u001b[0m in \u001b[0;36m<module>\u001b[0;34m\u001b[0m\n\u001b[0;32m----> 1\u001b[0;31m \u001b[0mcs_FastText\u001b[0m\u001b[0;34m(\u001b[0m\u001b[0mquery\u001b[0m\u001b[0;34m)\u001b[0m\u001b[0;34m\u001b[0m\u001b[0;34m\u001b[0m\u001b[0m\n\u001b[0m",
      "\u001b[0;32m<ipython-input-62-ae460ff2f57b>\u001b[0m in \u001b[0;36mcs_FastText\u001b[0;34m(query)\u001b[0m\n\u001b[1;32m     51\u001b[0m \u001b[0;34m\u001b[0m\u001b[0m\n\u001b[1;32m     52\u001b[0m \u001b[0;32mdef\u001b[0m \u001b[0mcs_FastText\u001b[0m\u001b[0;34m(\u001b[0m\u001b[0mquery\u001b[0m\u001b[0;34m)\u001b[0m\u001b[0;34m:\u001b[0m\u001b[0;34m\u001b[0m\u001b[0;34m\u001b[0m\u001b[0m\n\u001b[0;32m---> 53\u001b[0;31m     \u001b[0mscores\u001b[0m \u001b[0;34m=\u001b[0m \u001b[0mcosine_similarity\u001b[0m\u001b[0;34m(\u001b[0m\u001b[0mmake_ft_embedding\u001b[0m\u001b[0;34m(\u001b[0m\u001b[0mquery\u001b[0m\u001b[0;34m)\u001b[0m\u001b[0;34m.\u001b[0m\u001b[0mreshape\u001b[0m\u001b[0;34m(\u001b[0m\u001b[0;34m(\u001b[0m\u001b[0;36m1\u001b[0m\u001b[0;34m,\u001b[0m\u001b[0;36m300\u001b[0m\u001b[0;34m)\u001b[0m\u001b[0;34m)\u001b[0m\u001b[0;34m,\u001b[0m \u001b[0mcorpus_ft\u001b[0m\u001b[0;34m[\u001b[0m\u001b[0mcols\u001b[0m\u001b[0;34m]\u001b[0m\u001b[0;34m.\u001b[0m\u001b[0mas_matrix\u001b[0m\u001b[0;34m(\u001b[0m\u001b[0;34m)\u001b[0m\u001b[0;34m)\u001b[0m\u001b[0;34m[\u001b[0m\u001b[0;36m0\u001b[0m\u001b[0;34m]\u001b[0m\u001b[0;34m\u001b[0m\u001b[0;34m\u001b[0m\u001b[0m\n\u001b[0m\u001b[1;32m     54\u001b[0m     \u001b[0margx\u001b[0m \u001b[0;34m=\u001b[0m \u001b[0mnp\u001b[0m\u001b[0;34m.\u001b[0m\u001b[0margsort\u001b[0m\u001b[0;34m(\u001b[0m\u001b[0mscores\u001b[0m\u001b[0;34m)\u001b[0m\u001b[0;34m[\u001b[0m\u001b[0;34m:\u001b[0m\u001b[0;34m:\u001b[0m\u001b[0;34m-\u001b[0m\u001b[0;36m1\u001b[0m\u001b[0;34m]\u001b[0m\u001b[0;34m\u001b[0m\u001b[0;34m\u001b[0m\u001b[0m\n\u001b[1;32m     55\u001b[0m     \u001b[0;32mreturn\u001b[0m \u001b[0mdf\u001b[0m\u001b[0;34m[\u001b[0m\u001b[0;34m'doc_name'\u001b[0m\u001b[0;34m]\u001b[0m\u001b[0;34m[\u001b[0m\u001b[0margx\u001b[0m\u001b[0;34m.\u001b[0m\u001b[0mravel\u001b[0m\u001b[0;34m(\u001b[0m\u001b[0;34m)\u001b[0m\u001b[0;34m]\u001b[0m\u001b[0;34m\u001b[0m\u001b[0;34m\u001b[0m\u001b[0m\n",
      "\u001b[0;32m<ipython-input-35-27f58f057498>\u001b[0m in \u001b[0;36mcosine_similarity\u001b[0;34m(sparse_matrix, query)\u001b[0m\n\u001b[1;32m     40\u001b[0m \u001b[0;34m\u001b[0m\u001b[0m\n\u001b[1;32m     41\u001b[0m \u001b[0;32mdef\u001b[0m \u001b[0mcosine_similarity\u001b[0m\u001b[0;34m(\u001b[0m\u001b[0msparse_matrix\u001b[0m\u001b[0;34m,\u001b[0m \u001b[0mquery\u001b[0m\u001b[0;34m)\u001b[0m\u001b[0;34m:\u001b[0m\u001b[0;34m\u001b[0m\u001b[0;34m\u001b[0m\u001b[0m\n\u001b[0;32m---> 42\u001b[0;31m     \u001b[0;32mreturn\u001b[0m \u001b[0mnp\u001b[0m\u001b[0;34m.\u001b[0m\u001b[0mdot\u001b[0m\u001b[0;34m(\u001b[0m\u001b[0msparse_matrix\u001b[0m\u001b[0;34m,\u001b[0m \u001b[0mquery\u001b[0m\u001b[0;34m.\u001b[0m\u001b[0mT\u001b[0m\u001b[0;34m)\u001b[0m\u001b[0;34m.\u001b[0m\u001b[0mtoarray\u001b[0m\u001b[0;34m(\u001b[0m\u001b[0;34m)\u001b[0m\u001b[0;34m\u001b[0m\u001b[0;34m\u001b[0m\u001b[0m\n\u001b[0m\u001b[1;32m     43\u001b[0m \u001b[0;34m\u001b[0m\u001b[0m\n\u001b[1;32m     44\u001b[0m \u001b[0;32mdef\u001b[0m \u001b[0mmake_ft_embedding\u001b[0m\u001b[0;34m(\u001b[0m\u001b[0mline\u001b[0m\u001b[0;34m:\u001b[0m\u001b[0mstr\u001b[0m\u001b[0;34m)\u001b[0m\u001b[0;34m:\u001b[0m\u001b[0;34m\u001b[0m\u001b[0;34m\u001b[0m\u001b[0m\n",
      "\u001b[0;31mAttributeError\u001b[0m: 'numpy.ndarray' object has no attribute 'toarray'"
     ]
    }
   ],
   "source": [
    "cs_FastText(query)"
   ]
  },
  {
   "cell_type": "code",
   "execution_count": 60,
   "metadata": {},
   "outputs": [
    {
     "data": {
      "text/html": [
       "<div>\n",
       "<style scoped>\n",
       "    .dataframe tbody tr th:only-of-type {\n",
       "        vertical-align: middle;\n",
       "    }\n",
       "\n",
       "    .dataframe tbody tr th {\n",
       "        vertical-align: top;\n",
       "    }\n",
       "\n",
       "    .dataframe thead th {\n",
       "        text-align: right;\n",
       "    }\n",
       "</style>\n",
       "<table border=\"1\" class=\"dataframe\">\n",
       "  <thead>\n",
       "    <tr style=\"text-align: right;\">\n",
       "      <th></th>\n",
       "      <th>Unnamed: 0</th>\n",
       "      <th>word0</th>\n",
       "      <th>word1</th>\n",
       "      <th>word2</th>\n",
       "      <th>word3</th>\n",
       "      <th>word4</th>\n",
       "      <th>word5</th>\n",
       "      <th>word6</th>\n",
       "      <th>word7</th>\n",
       "      <th>word8</th>\n",
       "      <th>...</th>\n",
       "      <th>word291</th>\n",
       "      <th>word292</th>\n",
       "      <th>word293</th>\n",
       "      <th>word294</th>\n",
       "      <th>word295</th>\n",
       "      <th>word296</th>\n",
       "      <th>word297</th>\n",
       "      <th>word298</th>\n",
       "      <th>word299</th>\n",
       "      <th>doc_name</th>\n",
       "    </tr>\n",
       "  </thead>\n",
       "  <tbody>\n",
       "    <tr>\n",
       "      <th>0</th>\n",
       "      <td>0</td>\n",
       "      <td>-0.037194</td>\n",
       "      <td>0.013931</td>\n",
       "      <td>-0.030208</td>\n",
       "      <td>0.00719</td>\n",
       "      <td>-0.027905</td>\n",
       "      <td>0.052038</td>\n",
       "      <td>-0.052059</td>\n",
       "      <td>0.012993</td>\n",
       "      <td>0.010031</td>\n",
       "      <td>...</td>\n",
       "      <td>-0.024964</td>\n",
       "      <td>0.004102</td>\n",
       "      <td>-0.039575</td>\n",
       "      <td>-0.009564</td>\n",
       "      <td>-0.009771</td>\n",
       "      <td>0.023507</td>\n",
       "      <td>0.011224</td>\n",
       "      <td>0.031142</td>\n",
       "      <td>0.04592</td>\n",
       "      <td>скажи давай встретимся, тяжело сказать ?</td>\n",
       "    </tr>\n",
       "  </tbody>\n",
       "</table>\n",
       "<p>1 rows × 302 columns</p>\n",
       "</div>"
      ],
      "text/plain": [
       "   Unnamed: 0     word0     word1     word2    word3     word4     word5  \\\n",
       "0           0 -0.037194  0.013931 -0.030208  0.00719 -0.027905  0.052038   \n",
       "\n",
       "      word6     word7     word8  ...   word291   word292   word293   word294  \\\n",
       "0 -0.052059  0.012993  0.010031  ... -0.024964  0.004102 -0.039575 -0.009564   \n",
       "\n",
       "    word295   word296   word297   word298  word299  \\\n",
       "0 -0.009771  0.023507  0.011224  0.031142  0.04592   \n",
       "\n",
       "                                   doc_name  \n",
       "0  скажи давай встретимся, тяжело сказать ?  \n",
       "\n",
       "[1 rows x 302 columns]"
      ]
     },
     "execution_count": 60,
     "metadata": {},
     "output_type": "execute_result"
    }
   ],
   "source": [
    "corpus_ft.head(1)"
   ]
  },
  {
   "cell_type": "code",
   "execution_count": 38,
   "metadata": {},
   "outputs": [
    {
     "data": {
      "text/plain": [
       "9897                                            Не любит.\n",
       "1430                                          не с любыми\n",
       "9172                                        не дружелюбие\n",
       "8634                                              не бзди\n",
       "491                                           не зрелость\n",
       "                              ...                        \n",
       "6559    Надо пойти в ведомство которое дает вид на жит...\n",
       "1452    Статистика.Сейчас в России искусственно создан...\n",
       "1306    Отсчитаем от января назад 9 месяцев. Зачатие п...\n",
       "1753    В СССР было очень много разводов, тем не менее...\n",
       "2482    Что я могу сказать по этому поводу. С данной с...\n",
       "Name: answers, Length: 10000, dtype: object"
      ]
     },
     "execution_count": 38,
     "metadata": {},
     "output_type": "execute_result"
    }
   ],
   "source": [
    "cs_BERT(query)"
   ]
  },
  {
   "cell_type": "code",
   "execution_count": 39,
   "metadata": {},
   "outputs": [
    {
     "data": {
      "text/plain": [
       "7034    Если человек оскорбляет - значит он не любит. ...\n",
       "3788    Какая разница любит он тебя или нет? Любовь - ...\n",
       "4688    Поскольку те, кто сохраняет девственность, обл...\n",
       "9713    У нам с молодым человеком что-то на подобие эт...\n",
       "9034    Ты правильно решила сохранить ребёнка. Из всег...\n",
       "                              ...                        \n",
       "6587                    Соответствовать его темпераменту)\n",
       "6586               Девушки созданы более эмоциональными:)\n",
       "6585          женись и тогда секс будет супружеский долг.\n",
       "6583    Уйгурки довольно симпатичные. Здесь есть одна ...\n",
       "0                скажи давай встретимся, тяжело сказать ?\n",
       "Name: answers, Length: 10000, dtype: object"
      ]
     },
     "execution_count": 39,
     "metadata": {},
     "output_type": "execute_result"
    }
   ],
   "source": [
    "cs_TfidfVectorizer(query)"
   ]
  },
  {
   "cell_type": "code",
   "execution_count": 40,
   "metadata": {},
   "outputs": [
    {
     "data": {
      "text/plain": [
       "7034    Если человек оскорбляет - значит он не любит. ...\n",
       "3788    Какая разница любит он тебя или нет? Любовь - ...\n",
       "4688    Поскольку те, кто сохраняет девственность, обл...\n",
       "9713    У нам с молодым человеком что-то на подобие эт...\n",
       "9034    Ты правильно решила сохранить ребёнка. Из всег...\n",
       "                              ...                        \n",
       "6587                    Соответствовать его темпераменту)\n",
       "6586               Девушки созданы более эмоциональными:)\n",
       "6585          женись и тогда секс будет супружеский долг.\n",
       "6583    Уйгурки довольно симпатичные. Здесь есть одна ...\n",
       "0                скажи давай встретимся, тяжело сказать ?\n",
       "Name: answers, Length: 10000, dtype: object"
      ]
     },
     "execution_count": 40,
     "metadata": {},
     "output_type": "execute_result"
    }
   ],
   "source": [
    "cs_CountVectorizer(query)"
   ]
  },
  {
   "cell_type": "code",
   "execution_count": 41,
   "metadata": {},
   "outputs": [
    {
     "data": {
      "text/plain": [
       "3413                                               Любят.\n",
       "8100                                      Не любящий всех\n",
       "7861                                   Что он любит тебя!\n",
       "800                        Если она тебя любит то конечно\n",
       "8618                               он любит себя а не вас\n",
       "                              ...                        \n",
       "6587                    Соответствовать его темпераменту)\n",
       "6586               Девушки созданы более эмоциональными:)\n",
       "6585          женись и тогда секс будет супружеский долг.\n",
       "6583    Уйгурки довольно симпатичные. Здесь есть одна ...\n",
       "0                скажи давай встретимся, тяжело сказать ?\n",
       "Name: answers, Length: 10000, dtype: object"
      ]
     },
     "execution_count": 41,
     "metadata": {},
     "output_type": "execute_result"
    }
   ],
   "source": [
    "cs_BM25(query)"
   ]
  },
  {
   "cell_type": "code",
   "execution_count": 45,
   "metadata": {},
   "outputs": [
    {
     "data": {
      "text/plain": [
       "(300,)"
      ]
     },
     "execution_count": 45,
     "metadata": {},
     "output_type": "execute_result"
    }
   ],
   "source": [
    "model_ft[query].shape"
   ]
  },
  {
   "cell_type": "code",
   "execution_count": 51,
   "metadata": {},
   "outputs": [
    {
     "data": {
      "text/plain": [
       "(1, 300)"
      ]
     },
     "execution_count": 51,
     "metadata": {},
     "output_type": "execute_result"
    }
   ],
   "source": [
    "make_ft_embedding(query).reshape((1,300)).shape"
   ]
  },
  {
   "cell_type": "code",
   "execution_count": 48,
   "metadata": {},
   "outputs": [
    {
     "data": {
      "text/plain": [
       "'не любить'"
      ]
     },
     "execution_count": 48,
     "metadata": {},
     "output_type": "execute_result"
    }
   ],
   "source": [
    "query"
   ]
  },
  {
   "cell_type": "code",
   "execution_count": null,
   "metadata": {},
   "outputs": [],
   "source": []
  }
 ],
 "metadata": {
  "kernelspec": {
   "display_name": "Python 3",
   "language": "python",
   "name": "python3"
  },
  "language_info": {
   "codemirror_mode": {
    "name": "ipython",
    "version": 3
   },
   "file_extension": ".py",
   "mimetype": "text/x-python",
   "name": "python",
   "nbconvert_exporter": "python",
   "pygments_lexer": "ipython3",
   "version": "3.7.6"
  }
 },
 "nbformat": 4,
 "nbformat_minor": 4
}
