{
 "cells": [
  {
   "cell_type": "code",
   "execution_count": 49,
   "metadata": {},
   "outputs": [
    {
     "name": "stderr",
     "output_type": "stream",
     "text": [
      "[nltk_data] Downloading package stopwords to\n",
      "[nltk_data]     /Users/pikachu/nltk_data...\n",
      "[nltk_data]   Package stopwords is already up-to-date!\n"
     ]
    }
   ],
   "source": [
    "import json\n",
    "import gensim\n",
    "from gensim.models.wrappers import FastText\n",
    "import numpy as np\n",
    "import pandas as pd\n",
    "import re\n",
    "import nltk\n",
    "from nltk.tokenize import word_tokenize\n",
    "from pymystem3 import Mystem\n",
    "from nltk.corpus import stopwords\n",
    "from sklearn.metrics.pairwise import cosine_similarity\n",
    "import pickle\n",
    "import scipy\n",
    "from scipy import sparse\n",
    "nltk.download(\"stopwords\")\n",
    "russian_stopwords = stopwords.words(\"russian\")\n",
    "mystem = Mystem()\n",
    "model_ft = gensim.models.KeyedVectors.load('../vectorizers/araneum_none_fasttextcbow_300_5_2018.model')"
   ]
  },
  {
   "cell_type": "code",
   "execution_count": 4,
   "metadata": {},
   "outputs": [],
   "source": [
    "def make_ft_embedding(line:str):\n",
    "    emb_list = []\n",
    "    for word in line.split():\n",
    "        emb_list .append(model_ft[word])\n",
    "    emb_list = np.array(emb_list)\n",
    "    return emb_list.mean(axis=0)\n",
    "\n",
    "\n",
    "def preprocess_line(text: str) -> str:\n",
    "    # убираем пунктуацию, оставляем только дефисы\n",
    "    no_punct = re.sub('[,\\?\\!\\.\"\\:]|[a-zA-Z]+', '', ''.join(text))\n",
    "    # токенизируем и лемматизируем текст, приводим к нижнему регистру\n",
    "    lem_words = mystem.lemmatize(text.lower())\n",
    "    ans = ' '.join([w for w in lem_words if w not in russian_stopwords and w.isalpha()])\n",
    "    if ans == \" \":\n",
    "        return 'пустой текст'\n",
    "    elif ans == '':\n",
    "        return 'пустой текст'\n",
    "    else:\n",
    "        return re.sub('\\n', '', ans)"
   ]
  },
  {
   "cell_type": "code",
   "execution_count": 35,
   "metadata": {},
   "outputs": [],
   "source": [
    "# query = input('Введите фразу, которую хотите найти в корпусе: ')\n",
    "# query = preprocess_line(query)\n",
    "# ans = cs_FastText(query)\n",
    "def cs_FastText(query):\n",
    "    path_to_corpus = '../corpora/corpus_ft.csv'\n",
    "    df = pd.read_csv(path_to_corpus)\n",
    "    cols = [col for col in df.columns if 'word' in col]\n",
    "    scores = cosine_similarity(model_ft[query].reshape((1,300)), df[cols].values)[0]\n",
    "    argx = np.argsort(scores)[::-1]\n",
    "    return df['doc_name'][argx.ravel()]"
   ]
  },
  {
   "cell_type": "code",
   "execution_count": 13,
   "metadata": {},
   "outputs": [],
   "source": [
    "df = pd.read_csv('../data/questions_about_love.csv')"
   ]
  },
  {
   "cell_type": "code",
   "execution_count": 21,
   "metadata": {},
   "outputs": [],
   "source": [
    "def get_cosine_similarity(sparse_matrix, query):\n",
    "    return np.dot(sparse_matrix, query.T).toarray()"
   ]
  },
  {
   "cell_type": "code",
   "execution_count": 32,
   "metadata": {},
   "outputs": [],
   "source": [
    "# query = input('Введите фразу, которую хотите найти в корпусе: ')\n",
    "# query = preprocess_line(query)\n",
    "def cs_CountVectorizer(query):\n",
    "    count_vectorizer = pickle.load(open('../vectorizers/count_vectorizer.pickle', 'rb'))\n",
    "    sparse_matrix = sparse.load_npz('../corpora/count_vectorizer.npz')\n",
    "    query = count_vectorizer.transform([query])\n",
    "    scores = get_cosine_similarity(sparse_matrix, query)\n",
    "    argx = np.argsort(scores, axis=0)[::-1]\n",
    "    return df['answers'][argx.ravel()]"
   ]
  },
  {
   "cell_type": "code",
   "execution_count": 33,
   "metadata": {},
   "outputs": [
    {
     "data": {
      "text/plain": [
       "7034    Если человек оскорбляет - значит он не любит. ...\n",
       "3788    Какая разница любит он тебя или нет? Любовь - ...\n",
       "4688    Поскольку те, кто сохраняет девственность, обл...\n",
       "9713    У нам с молодым человеком что-то на подобие эт...\n",
       "9034    Ты правильно решила сохранить ребёнка. Из всег...\n",
       "                              ...                        \n",
       "6587                    Соответствовать его темпераменту)\n",
       "6586               Девушки созданы более эмоциональными:)\n",
       "6585          женись и тогда секс будет супружеский долг.\n",
       "6583    Уйгурки довольно симпатичные. Здесь есть одна ...\n",
       "0                скажи давай встретимся, тяжело сказать ?\n",
       "Name: answers, Length: 10000, dtype: object"
      ]
     },
     "execution_count": 33,
     "metadata": {},
     "output_type": "execute_result"
    }
   ],
   "source": [
    "cs_CountVectorizer(query)"
   ]
  },
  {
   "cell_type": "code",
   "execution_count": 36,
   "metadata": {},
   "outputs": [
    {
     "data": {
      "text/plain": [
       "9897                                            Не любит.\n",
       "7561                         Да за что только не любил...\n",
       "7861                                   Что он любит тебя!\n",
       "8100                                      Не любящий всех\n",
       "3413                                               Любят.\n",
       "                              ...                        \n",
       "8498                                            цкупукцап\n",
       "2941    Здравствуй . Это недоработки сервиса и правоох...\n",
       "5178                                        протеестовать\n",
       "9644                в дальневосточном федеральном округе!\n",
       "5480                                 синхронизация карбов\n",
       "Name: doc_name, Length: 10000, dtype: object"
      ]
     },
     "execution_count": 36,
     "metadata": {},
     "output_type": "execute_result"
    }
   ],
   "source": [
    "cs_FastText(query)"
   ]
  },
  {
   "cell_type": "code",
   "execution_count": 37,
   "metadata": {},
   "outputs": [],
   "source": [
    "# query = input('Введите фразу, которую хотите найти в корпусе: ')\n",
    "# query = preprocess_line(query)\n",
    "def cs_TfidfVectorizer(query):\n",
    "    tfidf_vectorizer = pickle.load(open('../vectorizers/tfidf_vectorizer.pickle', 'rb'))\n",
    "    sparse_matrix = sparse.load_npz('../corpora/tfidf_vectorizer.npz')\n",
    "    query = tfidf_vectorizer.transform([query])\n",
    "    sim_array = get_cosine_similarity(sparse_matrix, query)\n",
    "    sorted_scores_indx = np.argsort(sim_array, axis=0)[::-1]\n",
    "    return df['answers'][sorted_scores_indx.ravel()]"
   ]
  },
  {
   "cell_type": "code",
   "execution_count": 40,
   "metadata": {},
   "outputs": [
    {
     "data": {
      "text/plain": [
       "7034    Если человек оскорбляет - значит он не любит. ...\n",
       "3788    Какая разница любит он тебя или нет? Любовь - ...\n",
       "4688    Поскольку те, кто сохраняет девственность, обл...\n",
       "9713    У нам с молодым человеком что-то на подобие эт...\n",
       "9034    Ты правильно решила сохранить ребёнка. Из всег...\n",
       "                              ...                        \n",
       "6587                    Соответствовать его темпераменту)\n",
       "6586               Девушки созданы более эмоциональными:)\n",
       "6585          женись и тогда секс будет супружеский долг.\n",
       "6583    Уйгурки довольно симпатичные. Здесь есть одна ...\n",
       "0                скажи давай встретимся, тяжело сказать ?\n",
       "Name: answers, Length: 10000, dtype: object"
      ]
     },
     "execution_count": 40,
     "metadata": {},
     "output_type": "execute_result"
    }
   ],
   "source": [
    "cs_TfidfVectorizer(query)"
   ]
  },
  {
   "cell_type": "code",
   "execution_count": 46,
   "metadata": {},
   "outputs": [],
   "source": [
    "def cs_BM25(query):\n",
    "    query = preprocess_line(query)\n",
    "    count_vectorizer = pickle.load(open('../vectorizers/count_vectorizer.pickle', 'rb'))\n",
    "    query_vec = count_vectorizer.transform([query])\n",
    "    sparse_matrix = sparse.load_npz('../corpora/BM25.npz')\n",
    "    scores = sparse_matrix.dot(query_vec.T).toarray()\n",
    "    sorted_scores_indx = np.argsort(scores, axis=0)[::-1]\n",
    "    return df['answers'][sorted_scores_indx.ravel()]"
   ]
  },
  {
   "cell_type": "code",
   "execution_count": 47,
   "metadata": {},
   "outputs": [
    {
     "data": {
      "text/plain": [
       "3413                                               Любят.\n",
       "8100                                      Не любящий всех\n",
       "7861                                   Что он любит тебя!\n",
       "800                        Если она тебя любит то конечно\n",
       "8618                               он любит себя а не вас\n",
       "                              ...                        \n",
       "6587                    Соответствовать его темпераменту)\n",
       "6586               Девушки созданы более эмоциональными:)\n",
       "6585          женись и тогда секс будет супружеский долг.\n",
       "6583    Уйгурки довольно симпатичные. Здесь есть одна ...\n",
       "0                скажи давай встретимся, тяжело сказать ?\n",
       "Name: answers, Length: 10000, dtype: object"
      ]
     },
     "execution_count": 47,
     "metadata": {},
     "output_type": "execute_result"
    }
   ],
   "source": [
    "cs_BM25(query)"
   ]
  },
  {
   "cell_type": "code",
   "execution_count": 57,
   "metadata": {},
   "outputs": [
    {
     "name": "stderr",
     "output_type": "stream",
     "text": [
      "Some weights of the model checkpoint at cointegrated/rubert-tiny were not used when initializing BertModel: ['cls.predictions.transform.LayerNorm.bias', 'cls.predictions.bias', 'cls.seq_relationship.weight', 'cls.predictions.transform.dense.weight', 'cls.predictions.decoder.weight', 'cls.predictions.transform.LayerNorm.weight', 'cls.seq_relationship.bias', 'cls.predictions.decoder.bias', 'cls.predictions.transform.dense.bias']\n",
      "- This IS expected if you are initializing BertModel from the checkpoint of a model trained on another task or with another architecture (e.g. initializing a BertForSequenceClassification model from a BertForPreTraining model).\n",
      "- This IS NOT expected if you are initializing BertModel from the checkpoint of a model that you expect to be exactly identical (initializing a BertForSequenceClassification model from a BertForSequenceClassification model).\n"
     ]
    }
   ],
   "source": [
    "import torch\n",
    "from transformers import AutoTokenizer, AutoModel\n",
    "bert_tokenizer = AutoTokenizer.from_pretrained(\"cointegrated/rubert-tiny\")\n",
    "bert_model = AutoModel.from_pretrained(\"cointegrated/rubert-tiny\")\n",
    "\n",
    "\n",
    "\n",
    "def get_query_bert(query):\n",
    "    embeddings = embed_bert_cls(query, bert_model, bert_tokenizer)\n",
    "    return sparse.csr_matrix(embeddings)\n",
    "\n",
    "def get_cosine_similarity(sparse_matrix, query):\n",
    "    return np.dot(sparse_matrix, query.T).toarray()\n",
    "\n",
    "\n",
    "def cs_BERT(query):\n",
    "#     scores = get_cosine_similarity(sparse_matrix, query)\n",
    "#     sorted_scores_indx = np.argsort(scores, axis=0)[::-1]\n",
    "    query = get_query_bert(query)\n",
    "    sparse_matrix = sparse.load_npz('../corpora/BERT.npz')\n",
    "    scores = sparse_matrix.dot(query.T).toarray()\n",
    "    sorted_scores_indx = np.argsort(scores, axis=0)[::-1]\n",
    "#     corpus = corpus[sorted_scores_indx.ravel()]\n",
    "    return df['answers'][sorted_scores_indx.ravel()]\n",
    "\n",
    "def embed_bert_cls(text, model, tokenizer):\n",
    "    t = tokenizer(text, padding=True, truncation=True, return_tensors='pt')\n",
    "    with torch.no_grad():\n",
    "        model_output = model(**{k: v.to(model.device) for k, v in t.items()})\n",
    "    embeddings = model_output.last_hidden_state[:, 0, :]\n",
    "    embeddings = torch.nn.functional.normalize(embeddings)\n",
    "    return embeddings[0].cpu().numpy()"
   ]
  },
  {
   "cell_type": "code",
   "execution_count": 58,
   "metadata": {},
   "outputs": [
    {
     "data": {
      "text/plain": [
       "8185                                            танцевать\n",
       "3259                                             отвлекся\n",
       "4678                                           отношаться\n",
       "900                                                злость\n",
       "1239                                             залететь\n",
       "                              ...                        \n",
       "519     Он раскрыл твой секрет не понимая что ты обозн...\n",
       "1577    Пардон, что не по теме. В твоем сегодняшнем во...\n",
       "9966    ваша ошибка в том, что вы не объяснили парню д...\n",
       "2482    Что я могу сказать по этому поводу. С данной с...\n",
       "1753    В СССР было очень много разводов, тем не менее...\n",
       "Name: answers, Length: 10000, dtype: object"
      ]
     },
     "execution_count": 58,
     "metadata": {},
     "output_type": "execute_result"
    }
   ],
   "source": [
    "cs_BERT(query)"
   ]
  },
  {
   "cell_type": "code",
   "execution_count": 64,
   "metadata": {},
   "outputs": [
    {
     "data": {
      "text/plain": [
       "(300,)"
      ]
     },
     "execution_count": 64,
     "metadata": {},
     "output_type": "execute_result"
    }
   ],
   "source": [
    "make_ft_embedding(query).shape"
   ]
  },
  {
   "cell_type": "code",
   "execution_count": 66,
   "metadata": {},
   "outputs": [
    {
     "data": {
      "text/plain": [
       "(300,)"
      ]
     },
     "execution_count": 66,
     "metadata": {},
     "output_type": "execute_result"
    }
   ],
   "source": [
    "model_ft[query].shape"
   ]
  },
  {
   "cell_type": "code",
   "execution_count": null,
   "metadata": {},
   "outputs": [],
   "source": []
  },
  {
   "cell_type": "code",
   "execution_count": null,
   "metadata": {},
   "outputs": [],
   "source": []
  },
  {
   "cell_type": "code",
   "execution_count": null,
   "metadata": {},
   "outputs": [],
   "source": [
    "def doc_term_matrix(corpus, tfidf_vectorizer, tf_vectorizer):\n",
    "    tfidf_matrix = tfidf_vectorizer.fit_transform(corpus)\n",
    "    corpus_vocab = tfidf_vectorizer.get_feature_names()\n",
    "    tf_matrix = tf_vectorizer.fit_transform(corpus)\n",
    "    cv_matrix = count_vectorizer.fit_transform(corpus)\n",
    "    idf = tfidf_vectorizer.idf_\n",
    "    idf = np.expand_dims(idf, axis=0)\n",
    "    idf = sparse.csr_matrix(idf)\n",
    "    tf = tf_vectorizer\n",
    "    pickle.dump(idf, open('../vectorizers/idf_vectorizer.pickle', 'wb'))\n",
    "    pickle.dump(tf, open('../vectorizers/tf_vectorizer.pickle', 'wb'))\n",
    "    pickle.dump(count_vectorizer, open('../vectorizers/cv_vectorizer.pickle', 'wb'))\n",
    "    return tf_matrix, idf, cv_matrix\n",
    "\n",
    "def BM_25(tf_matrix, idf_matrix, cv_matrix, k=2, b=0.75):\n",
    "    values = []\n",
    "    rows = []\n",
    "    cols = []\n",
    "    len_d = cv_matrix.sum(axis=1).T\n",
    "    avgdl = len_d.mean()\n",
    "    for i, j in zip(*tf_matrix.nonzero()):\n",
    "        A = idf_matrix[0,j] * tf_matrix[i, j] * (k+1)\n",
    "        B_1 = (k * (1 - b + b * len_d[0,i] / avgdl))\n",
    "        B_1 = np.expand_dims(B_1, axis=-1) \n",
    "        B = tf_matrix[i, j] + B_1\n",
    "        B = B[0]\n",
    "        values.append(A/B)\n",
    "        rows.append(i)\n",
    "        cols.append(j)\n",
    "    sparse_matrix = sparse.csr_matrix((values, (rows, cols)))\n",
    "    scipy.sparse.save_npz('../corpora/BM25.npz', sparse_matrix)\n",
    "#     pickle.dump(sparse_matrix, open('./BM25.pickle', 'wb'))\n",
    "    return sparse_matrix\n",
    "\n",
    "\n",
    "if __name__ == \"__main__\":\n",
    "    df = make_df_from_corpus('../data/questions_about_love.jsonl')\n",
    "    df = df.head(10000)\n",
    "    corpus = df.ans_lemmas.to_list()\n",
    "    count_vectorizer = CountVectorizer()\n",
    "    tf_vectorizer = TfidfVectorizer(use_idf=False, norm='l2')\n",
    "    tfidf_vectorizer = TfidfVectorizer(use_idf=True, analyzer='word', norm='l2')\n",
    "    tf_matrix, idf_matrix, cv_matrix = doc_term_matrix(corpus, tfidf_vectorizer, tf_vectorizer)\n",
    "    BM_25(tf_matrix, idf_matrix, cv_matrix)"
   ]
  },
  {
   "cell_type": "code",
   "execution_count": 7,
   "metadata": {},
   "outputs": [],
   "source": [
    "import time"
   ]
  },
  {
   "cell_type": "code",
   "execution_count": 9,
   "metadata": {},
   "outputs": [
    {
     "name": "stdout",
     "output_type": "stream",
     "text": [
      "1634719222.502677 1634719222.502677\n"
     ]
    }
   ],
   "source": [
    "print(time.time(), time.time())"
   ]
  },
  {
   "cell_type": "code",
   "execution_count": null,
   "metadata": {},
   "outputs": [],
   "source": []
  }
 ],
 "metadata": {
  "kernelspec": {
   "display_name": "Python 3",
   "language": "python",
   "name": "python3"
  },
  "language_info": {
   "codemirror_mode": {
    "name": "ipython",
    "version": 3
   },
   "file_extension": ".py",
   "mimetype": "text/x-python",
   "name": "python",
   "nbconvert_exporter": "python",
   "pygments_lexer": "ipython3",
   "version": "3.7.6"
  }
 },
 "nbformat": 4,
 "nbformat_minor": 4
}
